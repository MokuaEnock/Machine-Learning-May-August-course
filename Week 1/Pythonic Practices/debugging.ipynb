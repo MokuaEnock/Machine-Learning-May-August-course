{
 "cells": [
  {
   "cell_type": "markdown",
   "metadata": {},
   "source": [
    "## Debugging in Python\n",
    "\n",
    "In thsi lesson we will be looking at how to debug yor code often at times you might run into errors in your code undestanding on what causes this errors and hwo you can avoid and solve them is key into making you a better programmer. "
   ]
  },
  {
   "cell_type": "code",
   "execution_count": null,
   "metadata": {},
   "outputs": [],
   "source": []
  },
  {
   "cell_type": "markdown",
   "metadata": {},
   "source": []
  }
 ],
 "metadata": {
  "language_info": {
   "name": "python"
  }
 },
 "nbformat": 4,
 "nbformat_minor": 2
}
