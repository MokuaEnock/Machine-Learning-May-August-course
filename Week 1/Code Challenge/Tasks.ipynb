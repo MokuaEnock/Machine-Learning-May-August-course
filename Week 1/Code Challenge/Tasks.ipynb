{
 "cells": [
  {
   "cell_type": "markdown",
   "metadata": {},
   "source": [
    "# Challenge 1"
   ]
  },
  {
   "cell_type": "code",
   "execution_count": null,
   "metadata": {},
   "outputs": [],
   "source": [
    "# Write a function that determines how many days there are in a particular month.\n",
    "# Your function will have two parameters: The month as an integer between 1 and 12,\n",
    "# and the year as a four digit integer.\n",
    "# Ensure that your function reports the correct number of days in February for leap years."
   ]
  },
  {
   "cell_type": "markdown",
   "metadata": {},
   "source": [
    "# Challenge 2"
   ]
  },
  {
   "cell_type": "code",
   "execution_count": null,
   "metadata": {},
   "outputs": [],
   "source": [
    "# In a particular company, taxi fares consist of a base fare of Ksh.200,\n",
    "# plus Ksh.25 for every 140 meters traveled.\n",
    "# Write a function that takes the distance traveled (in kilometers)\n",
    "# as its only parameter and returns the total fare as its only result."
   ]
  },
  {
   "cell_type": "markdown",
   "metadata": {},
   "source": [
    "# Challenge 3"
   ]
  },
  {
   "cell_type": "code",
   "execution_count": null,
   "metadata": {},
   "outputs": [],
   "source": [
    "# A particular cell phone plan includes 20 minutes of air time and 20 text messages\n",
    "# for Ksh. 50.00 a month. Each additional minute of air time costs Ksh. 3.00,\n",
    "# while additional text messages cost Ksh. 2.00 each.\n",
    "# The entire bill (including the 999 charge) is subject to 16 percent VAT tax.\n",
    "# Write a program that reads the number of minutes and text messages used in a month from the user.\n",
    "# Display the base charge, additional minutes charge (if any),\n",
    "# additional text message charge (if any), tax and total bill amount.\n",
    "# Only display the additional minute and text message charges if the user incurred costs in these categories.\n",
    "# Ensure that all of the charges are displayed using 2 decimal places."
   ]
  },
  {
   "cell_type": "markdown",
   "metadata": {},
   "source": [
    "# Challenge 4"
   ]
  },
  {
   "cell_type": "code",
   "execution_count": null,
   "metadata": {},
   "outputs": [],
   "source": [
    "# An online retailer provides express shipping for many of its items at a rate of Ksh 200 for the first item, and Ksh. 25 for each subsequent item.\n",
    "# Write a function that takes the number of items in the order from the user.\n",
    "# Return the shipping charge for the order as the function’s result."
   ]
  },
  {
   "cell_type": "markdown",
   "metadata": {},
   "source": [
    "# Challenge 5"
   ]
  },
  {
   "cell_type": "code",
   "execution_count": null,
   "metadata": {},
   "outputs": [],
   "source": [
    "# Create a function to sum all the numbers in a list a = [6, 5, 4, 3, 2, 1]"
   ]
  }
 ],
 "metadata": {
  "language_info": {
   "name": "python"
  }
 },
 "nbformat": 4,
 "nbformat_minor": 2
}
