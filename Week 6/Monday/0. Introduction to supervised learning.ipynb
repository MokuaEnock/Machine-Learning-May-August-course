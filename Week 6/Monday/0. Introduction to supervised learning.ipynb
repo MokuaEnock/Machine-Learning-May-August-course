{
 "cells": [
  {
   "cell_type": "markdown",
   "metadata": {},
   "source": [
    "## Overview\n",
    "\n",
    "|We will now start predicting new information. If we know demographic information about customers, as well as their purchasing habits, can we predict how much a new person would purchase based on their demographic information?\n",
    "\n",
    "If you have a few years of student data, covering mock exam results and national exam results, can we predict how well new students will do in the national exam if we know their mock exam results?\n",
    "\n",
    "Throughout this module, we will focus on supervised learning: A series of algorithms that learn from established datasets in order to create models. You will need to gather, find, and clean up training data set, where you will have information on the variable you wish to predict (the dependent variable), as well as all the data you wish to use to make your prediction (the\n",
    "independent variables)\n",
    "\n",
    "For our purposes, a model is like a function which can predict the value of a dependent variable, based on an input of one or more independent variable. Our typical workflow throughout this module will be like this:\n",
    "\n",
    "- Identify and clean a data set\n",
    "- Run descriptive analytics to identify patterns in the data, and decide which supervised learning algorithm to use.\n",
    "- Create a training data set to create our model\n",
    "- Assess how good our model is\n",
    "- Perform our predictions\n",
    "\n",
    "\n",
    "## Main Resources\n",
    "#### Introducing regressions\n",
    "The first family of algorithms we will study this week are called regressions. This might be familiar to some of you from high school/university: These algorithms try to identify the line of best fit, a line which minimizes how far away all the points in our graph are from it.\n",
    "\n",
    "(Sample Image)[./images/image.png]\n",
    "\n",
    "## Additional Study Links\n",
    "\n",
    "1. [Introduction to supervised learning](https://www.youtube.com/watch?v=Ig1nfPjrETc)\n"
   ]
  },
  {
   "cell_type": "markdown",
   "metadata": {},
   "source": []
  }
 ],
 "metadata": {
  "language_info": {
   "name": "python"
  }
 },
 "nbformat": 4,
 "nbformat_minor": 2
}
