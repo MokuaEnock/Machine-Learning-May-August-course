{
 "cells": [
  {
   "cell_type": "markdown",
   "metadata": {},
   "source": [
    "# Energy in Pandas Tutorial"
   ]
  },
  {
   "cell_type": "markdown",
   "metadata": {},
   "source": [
    "This notebook explains how to calculate the energy of time series data in `pandas`.\n",
    "\n",
    "This notebook will use gold and silver price data from `rdatasets` for this tutorial"
   ]
  },
  {
   "cell_type": "markdown",
   "metadata": {},
   "source": [
    "### Packages"
   ]
  },
  {
   "cell_type": "markdown",
   "metadata": {},
   "source": [
    "The documentation for each package used in this tutorial is linked below:\n",
    "* [pandas](https://pandas.pydata.org/docs/)\n",
    "* [statsmodels](https://www.statsmodels.org/stable/index.html)\n",
    "    * [statsmodels.api](https://www.statsmodels.org/stable/api.html#statsmodels-api)"
   ]
  },
  {
   "cell_type": "code",
   "execution_count": 1,
   "metadata": {},
   "outputs": [],
   "source": [
    "import statsmodels.api as sm\n",
    "import pandas as pd"
   ]
  },
  {
   "cell_type": "markdown",
   "metadata": {},
   "source": [
    "## Create initial dataset"
   ]
  },
  {
   "cell_type": "markdown",
   "metadata": {},
   "source": [
    "The data is from `rdatasets` imported using the Python package `statsmodels`."
   ]
  },
  {
   "cell_type": "code",
   "execution_count": 2,
   "metadata": {},
   "outputs": [
    {
     "name": "stdout",
     "output_type": "stream",
     "text": [
      "<class 'pandas.core.frame.DataFrame'>\n",
      "RangeIndex: 9132 entries, 0 to 9131\n",
      "Data columns (total 3 columns):\n",
      " #   Column  Non-Null Count  Dtype  \n",
      "---  ------  --------------  -----  \n",
      " 0   date    9132 non-null   object \n",
      " 1   gold    9132 non-null   float64\n",
      " 2   silver  9132 non-null   float64\n",
      "dtypes: float64(2), object(1)\n",
      "memory usage: 214.2+ KB\n"
     ]
    }
   ],
   "source": [
    "df = sm.datasets.get_rdataset('GoldSilver', 'AER').data.reset_index().rename(columns={'index': 'date'})\n",
    "df.info()"
   ]
  },
  {
   "cell_type": "code",
   "execution_count": 3,
   "metadata": {},
   "outputs": [],
   "source": [
    "df['date'] = pd.to_datetime(df.date)"
   ]
  },
  {
   "cell_type": "markdown",
   "metadata": {},
   "source": [
    "## Time series aggregation"
   ]
  },
  {
   "cell_type": "markdown",
   "metadata": {},
   "source": [
    "The `pandas` function `rolling` can be used to create aggregations on windows of specific lengths.  Here, an aggregate of the daily gold and silver price data will be created covering the primary week.  \n",
    "\n",
    "First, a datetime index needs to be created from the **date** column."
   ]
  },
  {
   "cell_type": "code",
   "execution_count": 4,
   "metadata": {},
   "outputs": [],
   "source": [
    "df.set_index('date', inplace=True)"
   ]
  },
  {
   "cell_type": "markdown",
   "metadata": {},
   "source": [
    "Pandas aggregation will require a function that can be called.  The energy of a series is the sum of the squared magnatude of the signal."
   ]
  },
  {
   "cell_type": "code",
   "execution_count": 5,
   "metadata": {},
   "outputs": [],
   "source": [
    "def energy(series):\n",
    "    return sum(series**2)"
   ]
  },
  {
   "cell_type": "markdown",
   "metadata": {},
   "source": [
    "If, instead of an offset (**'7D'** representing 7 days), a number is used, it will just use the prior number of observations."
   ]
  },
  {
   "cell_type": "code",
   "execution_count": 6,
   "metadata": {},
   "outputs": [],
   "source": [
    "weekly_resample = df.rolling('7D')\n",
    "aggregated_df = weekly_resample.agg(['mean', energy])\n",
    "aggregated_df.columns = ['_'.join(col).strip() + '_week' for col in aggregated_df.columns.values]"
   ]
  },
  {
   "cell_type": "code",
   "execution_count": 7,
   "metadata": {},
   "outputs": [
    {
     "data": {
      "text/html": [
       "<div>\n",
       "<style scoped>\n",
       "    .dataframe tbody tr th:only-of-type {\n",
       "        vertical-align: middle;\n",
       "    }\n",
       "\n",
       "    .dataframe tbody tr th {\n",
       "        vertical-align: top;\n",
       "    }\n",
       "\n",
       "    .dataframe thead th {\n",
       "        text-align: right;\n",
       "    }\n",
       "</style>\n",
       "<table border=\"1\" class=\"dataframe\">\n",
       "  <thead>\n",
       "    <tr style=\"text-align: right;\">\n",
       "      <th></th>\n",
       "      <th>gold_mean_week</th>\n",
       "      <th>gold_energy_week</th>\n",
       "      <th>silver_mean_week</th>\n",
       "      <th>silver_energy_week</th>\n",
       "    </tr>\n",
       "    <tr>\n",
       "      <th>date</th>\n",
       "      <th></th>\n",
       "      <th></th>\n",
       "      <th></th>\n",
       "      <th></th>\n",
       "    </tr>\n",
       "  </thead>\n",
       "  <tbody>\n",
       "    <tr>\n",
       "      <th>1977-12-30</th>\n",
       "      <td>100.000</td>\n",
       "      <td>10000.0000</td>\n",
       "      <td>223.420</td>\n",
       "      <td>49916.4964</td>\n",
       "    </tr>\n",
       "    <tr>\n",
       "      <th>1978-01-02</th>\n",
       "      <td>100.000</td>\n",
       "      <td>20000.0000</td>\n",
       "      <td>223.420</td>\n",
       "      <td>99832.9928</td>\n",
       "    </tr>\n",
       "    <tr>\n",
       "      <th>1978-01-03</th>\n",
       "      <td>100.000</td>\n",
       "      <td>30000.0000</td>\n",
       "      <td>225.560</td>\n",
       "      <td>152659.4184</td>\n",
       "    </tr>\n",
       "    <tr>\n",
       "      <th>1978-01-04</th>\n",
       "      <td>100.000</td>\n",
       "      <td>40000.0000</td>\n",
       "      <td>225.315</td>\n",
       "      <td>203095.5948</td>\n",
       "    </tr>\n",
       "    <tr>\n",
       "      <th>1978-01-05</th>\n",
       "      <td>100.000</td>\n",
       "      <td>50000.0000</td>\n",
       "      <td>225.850</td>\n",
       "      <td>255075.0349</td>\n",
       "    </tr>\n",
       "    <tr>\n",
       "      <th>1978-01-06</th>\n",
       "      <td>100.000</td>\n",
       "      <td>50000.0000</td>\n",
       "      <td>226.604</td>\n",
       "      <td>256773.8346</td>\n",
       "    </tr>\n",
       "    <tr>\n",
       "      <th>1978-01-09</th>\n",
       "      <td>100.246</td>\n",
       "      <td>50247.5129</td>\n",
       "      <td>227.844</td>\n",
       "      <td>259582.6826</td>\n",
       "    </tr>\n",
       "    <tr>\n",
       "      <th>1978-01-10</th>\n",
       "      <td>100.436</td>\n",
       "      <td>50438.4154</td>\n",
       "      <td>227.670</td>\n",
       "      <td>259183.5179</td>\n",
       "    </tr>\n",
       "    <tr>\n",
       "      <th>1978-01-11</th>\n",
       "      <td>100.886</td>\n",
       "      <td>50893.4779</td>\n",
       "      <td>228.998</td>\n",
       "      <td>262210.0299</td>\n",
       "    </tr>\n",
       "    <tr>\n",
       "      <th>1978-01-12</th>\n",
       "      <td>101.062</td>\n",
       "      <td>51070.2523</td>\n",
       "      <td>228.978</td>\n",
       "      <td>262164.4419</td>\n",
       "    </tr>\n",
       "    <tr>\n",
       "      <th>1978-01-13</th>\n",
       "      <td>101.586</td>\n",
       "      <td>51601.1167</td>\n",
       "      <td>230.050</td>\n",
       "      <td>264628.6483</td>\n",
       "    </tr>\n",
       "    <tr>\n",
       "      <th>1978-01-16</th>\n",
       "      <td>101.958</td>\n",
       "      <td>51981.1519</td>\n",
       "      <td>230.624</td>\n",
       "      <td>265954.9040</td>\n",
       "    </tr>\n",
       "    <tr>\n",
       "      <th>1978-01-17</th>\n",
       "      <td>102.124</td>\n",
       "      <td>52149.4178</td>\n",
       "      <td>230.866</td>\n",
       "      <td>266510.4755</td>\n",
       "    </tr>\n",
       "    <tr>\n",
       "      <th>1978-01-18</th>\n",
       "      <td>101.848</td>\n",
       "      <td>51869.1122</td>\n",
       "      <td>230.214</td>\n",
       "      <td>265013.5487</td>\n",
       "    </tr>\n",
       "    <tr>\n",
       "      <th>1978-01-19</th>\n",
       "      <td>102.012</td>\n",
       "      <td>52035.2278</td>\n",
       "      <td>230.412</td>\n",
       "      <td>265465.7510</td>\n",
       "    </tr>\n",
       "    <tr>\n",
       "      <th>1978-01-20</th>\n",
       "      <td>101.832</td>\n",
       "      <td>51851.3218</td>\n",
       "      <td>229.686</td>\n",
       "      <td>263790.6149</td>\n",
       "    </tr>\n",
       "    <tr>\n",
       "      <th>1978-01-23</th>\n",
       "      <td>101.938</td>\n",
       "      <td>51960.8781</td>\n",
       "      <td>229.988</td>\n",
       "      <td>264495.0148</td>\n",
       "    </tr>\n",
       "    <tr>\n",
       "      <th>1978-01-24</th>\n",
       "      <td>102.300</td>\n",
       "      <td>52332.5978</td>\n",
       "      <td>230.678</td>\n",
       "      <td>266095.1593</td>\n",
       "    </tr>\n",
       "    <tr>\n",
       "      <th>1978-01-25</th>\n",
       "      <td>102.836</td>\n",
       "      <td>52880.4434</td>\n",
       "      <td>231.986</td>\n",
       "      <td>269119.6477</td>\n",
       "    </tr>\n",
       "    <tr>\n",
       "      <th>1978-01-26</th>\n",
       "      <td>103.152</td>\n",
       "      <td>53204.3118</td>\n",
       "      <td>232.508</td>\n",
       "      <td>270321.2134</td>\n",
       "    </tr>\n",
       "  </tbody>\n",
       "</table>\n",
       "</div>"
      ],
      "text/plain": [
       "            gold_mean_week  gold_energy_week  silver_mean_week  \\\n",
       "date                                                             \n",
       "1977-12-30         100.000        10000.0000           223.420   \n",
       "1978-01-02         100.000        20000.0000           223.420   \n",
       "1978-01-03         100.000        30000.0000           225.560   \n",
       "1978-01-04         100.000        40000.0000           225.315   \n",
       "1978-01-05         100.000        50000.0000           225.850   \n",
       "1978-01-06         100.000        50000.0000           226.604   \n",
       "1978-01-09         100.246        50247.5129           227.844   \n",
       "1978-01-10         100.436        50438.4154           227.670   \n",
       "1978-01-11         100.886        50893.4779           228.998   \n",
       "1978-01-12         101.062        51070.2523           228.978   \n",
       "1978-01-13         101.586        51601.1167           230.050   \n",
       "1978-01-16         101.958        51981.1519           230.624   \n",
       "1978-01-17         102.124        52149.4178           230.866   \n",
       "1978-01-18         101.848        51869.1122           230.214   \n",
       "1978-01-19         102.012        52035.2278           230.412   \n",
       "1978-01-20         101.832        51851.3218           229.686   \n",
       "1978-01-23         101.938        51960.8781           229.988   \n",
       "1978-01-24         102.300        52332.5978           230.678   \n",
       "1978-01-25         102.836        52880.4434           231.986   \n",
       "1978-01-26         103.152        53204.3118           232.508   \n",
       "\n",
       "            silver_energy_week  \n",
       "date                            \n",
       "1977-12-30          49916.4964  \n",
       "1978-01-02          99832.9928  \n",
       "1978-01-03         152659.4184  \n",
       "1978-01-04         203095.5948  \n",
       "1978-01-05         255075.0349  \n",
       "1978-01-06         256773.8346  \n",
       "1978-01-09         259582.6826  \n",
       "1978-01-10         259183.5179  \n",
       "1978-01-11         262210.0299  \n",
       "1978-01-12         262164.4419  \n",
       "1978-01-13         264628.6483  \n",
       "1978-01-16         265954.9040  \n",
       "1978-01-17         266510.4755  \n",
       "1978-01-18         265013.5487  \n",
       "1978-01-19         265465.7510  \n",
       "1978-01-20         263790.6149  \n",
       "1978-01-23         264495.0148  \n",
       "1978-01-24         266095.1593  \n",
       "1978-01-25         269119.6477  \n",
       "1978-01-26         270321.2134  "
      ]
     },
     "execution_count": 7,
     "metadata": {},
     "output_type": "execute_result"
    }
   ],
   "source": [
    "aggregated_df.head(20)"
   ]
  },
  {
   "cell_type": "code",
   "execution_count": null,
   "metadata": {},
   "outputs": [],
   "source": []
  }
 ],
 "metadata": {
  "kernelspec": {
   "display_name": "Python 3",
   "language": "python",
   "name": "python3"
  },
  "language_info": {
   "codemirror_mode": {
    "name": "ipython",
    "version": 3
   },
   "file_extension": ".py",
   "mimetype": "text/x-python",
   "name": "python",
   "nbconvert_exporter": "python",
   "pygments_lexer": "ipython3",
   "version": "3.7.10"
  }
 },
 "nbformat": 4,
 "nbformat_minor": 4
}
