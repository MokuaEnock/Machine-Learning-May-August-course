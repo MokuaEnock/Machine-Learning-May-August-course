{
 "cells": [
  {
   "cell_type": "markdown",
   "metadata": {},
   "source": [
    "# Moving Average in Pandas Tutorial"
   ]
  },
  {
   "cell_type": "markdown",
   "metadata": {},
   "source": [
    "This notebook explains how to create a moving average in `pandas`.\n",
    "\n",
    "This notebook will use gold and silver price data from `rdatasets` for this tutorial"
   ]
  },
  {
   "cell_type": "markdown",
   "metadata": {},
   "source": [
    "### Packages"
   ]
  },
  {
   "cell_type": "markdown",
   "metadata": {},
   "source": [
    "The documentation for each package used in this tutorial is linked below:\n",
    "* [pandas](https://pandas.pydata.org/docs/)\n",
    "* [statsmodels](https://www.statsmodels.org/stable/index.html)\n",
    "    * [statsmodels.api](https://www.statsmodels.org/stable/api.html#statsmodels-api)"
   ]
  },
  {
   "cell_type": "code",
   "execution_count": 1,
   "metadata": {},
   "outputs": [],
   "source": [
    "import statsmodels.api as sm\n",
    "import pandas as pd"
   ]
  },
  {
   "cell_type": "markdown",
   "metadata": {},
   "source": [
    "## Create initial dataset"
   ]
  },
  {
   "cell_type": "markdown",
   "metadata": {},
   "source": [
    "The data is from `rdatasets` imported using the Python package `statsmodels`."
   ]
  },
  {
   "cell_type": "code",
   "execution_count": 2,
   "metadata": {},
   "outputs": [
    {
     "name": "stdout",
     "output_type": "stream",
     "text": [
      "<class 'pandas.core.frame.DataFrame'>\n",
      "RangeIndex: 9132 entries, 0 to 9131\n",
      "Data columns (total 3 columns):\n",
      " #   Column  Non-Null Count  Dtype  \n",
      "---  ------  --------------  -----  \n",
      " 0   date    9132 non-null   object \n",
      " 1   gold    9132 non-null   float64\n",
      " 2   silver  9132 non-null   float64\n",
      "dtypes: float64(2), object(1)\n",
      "memory usage: 214.2+ KB\n"
     ]
    }
   ],
   "source": [
    "df = sm.datasets.get_rdataset('GoldSilver', 'AER').data.reset_index().rename(columns={'index': 'date'})\n",
    "df.info()"
   ]
  },
  {
   "cell_type": "code",
   "execution_count": 3,
   "metadata": {},
   "outputs": [],
   "source": [
    "df['date'] = pd.to_datetime(df.date)"
   ]
  },
  {
   "cell_type": "markdown",
   "metadata": {},
   "source": [
    "## Moving Average"
   ]
  },
  {
   "cell_type": "markdown",
   "metadata": {},
   "source": [
    "To create a moving average, a rolling window first needs to be created using the `pandas` function `rolling`.  Then any aggregation function, `sum`, `mean`, `std`, etc."
   ]
  },
  {
   "cell_type": "code",
   "execution_count": 4,
   "metadata": {},
   "outputs": [],
   "source": [
    "df.sort_values('date', inplace=True)\n",
    "df['silver_moving_average_5'] = df['silver'].rolling(5).mean()"
   ]
  },
  {
   "cell_type": "code",
   "execution_count": 5,
   "metadata": {},
   "outputs": [
    {
     "data": {
      "text/html": [
       "<div>\n",
       "<style scoped>\n",
       "    .dataframe tbody tr th:only-of-type {\n",
       "        vertical-align: middle;\n",
       "    }\n",
       "\n",
       "    .dataframe tbody tr th {\n",
       "        vertical-align: top;\n",
       "    }\n",
       "\n",
       "    .dataframe thead th {\n",
       "        text-align: right;\n",
       "    }\n",
       "</style>\n",
       "<table border=\"1\" class=\"dataframe\">\n",
       "  <thead>\n",
       "    <tr style=\"text-align: right;\">\n",
       "      <th></th>\n",
       "      <th>date</th>\n",
       "      <th>gold</th>\n",
       "      <th>silver</th>\n",
       "      <th>silver_moving_average_5</th>\n",
       "    </tr>\n",
       "  </thead>\n",
       "  <tbody>\n",
       "    <tr>\n",
       "      <th>5</th>\n",
       "      <td>1978-01-06</td>\n",
       "      <td>100.00</td>\n",
       "      <td>227.19</td>\n",
       "      <td>226.604</td>\n",
       "    </tr>\n",
       "    <tr>\n",
       "      <th>6</th>\n",
       "      <td>1978-01-09</td>\n",
       "      <td>101.23</td>\n",
       "      <td>229.62</td>\n",
       "      <td>227.844</td>\n",
       "    </tr>\n",
       "    <tr>\n",
       "      <th>7</th>\n",
       "      <td>1978-01-10</td>\n",
       "      <td>100.95</td>\n",
       "      <td>228.97</td>\n",
       "      <td>227.670</td>\n",
       "    </tr>\n",
       "    <tr>\n",
       "      <th>8</th>\n",
       "      <td>1978-01-11</td>\n",
       "      <td>102.25</td>\n",
       "      <td>231.22</td>\n",
       "      <td>228.998</td>\n",
       "    </tr>\n",
       "    <tr>\n",
       "      <th>9</th>\n",
       "      <td>1978-01-12</td>\n",
       "      <td>100.88</td>\n",
       "      <td>227.89</td>\n",
       "      <td>228.978</td>\n",
       "    </tr>\n",
       "  </tbody>\n",
       "</table>\n",
       "</div>"
      ],
      "text/plain": [
       "        date    gold  silver  silver_moving_average_5\n",
       "5 1978-01-06  100.00  227.19                  226.604\n",
       "6 1978-01-09  101.23  229.62                  227.844\n",
       "7 1978-01-10  100.95  228.97                  227.670\n",
       "8 1978-01-11  102.25  231.22                  228.998\n",
       "9 1978-01-12  100.88  227.89                  228.978"
      ]
     },
     "execution_count": 5,
     "metadata": {},
     "output_type": "execute_result"
    }
   ],
   "source": [
    "df.head(10).tail()"
   ]
  },
  {
   "cell_type": "code",
   "execution_count": 1,
   "metadata": {},
   "outputs": [
    {
     "data": {
      "text/plain": [
       "101.062"
      ]
     },
     "execution_count": 1,
     "metadata": {},
     "output_type": "execute_result"
    }
   ],
   "source": [
    "total = 100.00 + 101.23 + 100.95 + 102.25 + 100.88\n",
    "total/5"
   ]
  },
  {
   "cell_type": "markdown",
   "metadata": {},
   "source": [
    "Alternatively, a rolling window could be created and multiple aggregations applied to it."
   ]
  },
  {
   "cell_type": "code",
   "execution_count": 6,
   "metadata": {},
   "outputs": [],
   "source": [
    "rolling_5 = df.rolling(5)\n",
    "df['silver_moving_average_5_two'] = rolling_5['silver'].mean()\n",
    "df['silver_moving_sum_5'] = rolling_5['silver'].sum()"
   ]
  },
  {
   "cell_type": "code",
   "execution_count": 7,
   "metadata": {},
   "outputs": [
    {
     "data": {
      "text/html": [
       "<div>\n",
       "<style scoped>\n",
       "    .dataframe tbody tr th:only-of-type {\n",
       "        vertical-align: middle;\n",
       "    }\n",
       "\n",
       "    .dataframe tbody tr th {\n",
       "        vertical-align: top;\n",
       "    }\n",
       "\n",
       "    .dataframe thead th {\n",
       "        text-align: right;\n",
       "    }\n",
       "</style>\n",
       "<table border=\"1\" class=\"dataframe\">\n",
       "  <thead>\n",
       "    <tr style=\"text-align: right;\">\n",
       "      <th></th>\n",
       "      <th>date</th>\n",
       "      <th>gold</th>\n",
       "      <th>silver</th>\n",
       "      <th>silver_moving_average_5</th>\n",
       "      <th>silver_moving_average_5_two</th>\n",
       "      <th>silver_moving_sum_5</th>\n",
       "    </tr>\n",
       "  </thead>\n",
       "  <tbody>\n",
       "    <tr>\n",
       "      <th>5</th>\n",
       "      <td>1978-01-06</td>\n",
       "      <td>100.00</td>\n",
       "      <td>227.19</td>\n",
       "      <td>226.604</td>\n",
       "      <td>226.604</td>\n",
       "      <td>1133.02</td>\n",
       "    </tr>\n",
       "    <tr>\n",
       "      <th>6</th>\n",
       "      <td>1978-01-09</td>\n",
       "      <td>101.23</td>\n",
       "      <td>229.62</td>\n",
       "      <td>227.844</td>\n",
       "      <td>227.844</td>\n",
       "      <td>1139.22</td>\n",
       "    </tr>\n",
       "    <tr>\n",
       "      <th>7</th>\n",
       "      <td>1978-01-10</td>\n",
       "      <td>100.95</td>\n",
       "      <td>228.97</td>\n",
       "      <td>227.670</td>\n",
       "      <td>227.670</td>\n",
       "      <td>1138.35</td>\n",
       "    </tr>\n",
       "    <tr>\n",
       "      <th>8</th>\n",
       "      <td>1978-01-11</td>\n",
       "      <td>102.25</td>\n",
       "      <td>231.22</td>\n",
       "      <td>228.998</td>\n",
       "      <td>228.998</td>\n",
       "      <td>1144.99</td>\n",
       "    </tr>\n",
       "    <tr>\n",
       "      <th>9</th>\n",
       "      <td>1978-01-12</td>\n",
       "      <td>100.88</td>\n",
       "      <td>227.89</td>\n",
       "      <td>228.978</td>\n",
       "      <td>228.978</td>\n",
       "      <td>1144.89</td>\n",
       "    </tr>\n",
       "  </tbody>\n",
       "</table>\n",
       "</div>"
      ],
      "text/plain": [
       "        date    gold  silver  silver_moving_average_5  \\\n",
       "5 1978-01-06  100.00  227.19                  226.604   \n",
       "6 1978-01-09  101.23  229.62                  227.844   \n",
       "7 1978-01-10  100.95  228.97                  227.670   \n",
       "8 1978-01-11  102.25  231.22                  228.998   \n",
       "9 1978-01-12  100.88  227.89                  228.978   \n",
       "\n",
       "   silver_moving_average_5_two  silver_moving_sum_5  \n",
       "5                      226.604              1133.02  \n",
       "6                      227.844              1139.22  \n",
       "7                      227.670              1138.35  \n",
       "8                      228.998              1144.99  \n",
       "9                      228.978              1144.89  "
      ]
     },
     "execution_count": 7,
     "metadata": {},
     "output_type": "execute_result"
    }
   ],
   "source": [
    "df.head(10).tail()"
   ]
  },
  {
   "cell_type": "markdown",
   "metadata": {},
   "source": [
    "This creates a moving average based on the last five observations, but `rolling` can also take an offset to specify the time to use in the rolling window.  For example, **5D** can be used as an offset for 5 days.\n",
    "\n",
    "First, a datetime index must be created from **date**."
   ]
  },
  {
   "cell_type": "code",
   "execution_count": 8,
   "metadata": {
    "tags": []
   },
   "outputs": [],
   "source": [
    "df.set_index('date', inplace=True)"
   ]
  },
  {
   "cell_type": "code",
   "execution_count": 9,
   "metadata": {},
   "outputs": [],
   "source": [
    "rolling_5d = df.rolling('5D')\n",
    "df['silver_moving_average_5D'] = rolling_5d['silver'].mean()\n",
    "df['silver_moving_sum_5D'] = rolling_5d['silver'].sum()"
   ]
  },
  {
   "cell_type": "code",
   "execution_count": 10,
   "metadata": {},
   "outputs": [
    {
     "data": {
      "text/html": [
       "<div>\n",
       "<style scoped>\n",
       "    .dataframe tbody tr th:only-of-type {\n",
       "        vertical-align: middle;\n",
       "    }\n",
       "\n",
       "    .dataframe tbody tr th {\n",
       "        vertical-align: top;\n",
       "    }\n",
       "\n",
       "    .dataframe thead th {\n",
       "        text-align: right;\n",
       "    }\n",
       "</style>\n",
       "<table border=\"1\" class=\"dataframe\">\n",
       "  <thead>\n",
       "    <tr style=\"text-align: right;\">\n",
       "      <th></th>\n",
       "      <th>gold</th>\n",
       "      <th>silver</th>\n",
       "      <th>silver_moving_average_5</th>\n",
       "      <th>silver_moving_average_5_two</th>\n",
       "      <th>silver_moving_sum_5</th>\n",
       "      <th>silver_moving_average_5D</th>\n",
       "      <th>silver_moving_sum_5D</th>\n",
       "    </tr>\n",
       "    <tr>\n",
       "      <th>date</th>\n",
       "      <th></th>\n",
       "      <th></th>\n",
       "      <th></th>\n",
       "      <th></th>\n",
       "      <th></th>\n",
       "      <th></th>\n",
       "      <th></th>\n",
       "    </tr>\n",
       "  </thead>\n",
       "  <tbody>\n",
       "    <tr>\n",
       "      <th>1978-01-06</th>\n",
       "      <td>100.00</td>\n",
       "      <td>227.19</td>\n",
       "      <td>226.604</td>\n",
       "      <td>226.604</td>\n",
       "      <td>1133.02</td>\n",
       "      <td>226.604000</td>\n",
       "      <td>1133.02</td>\n",
       "    </tr>\n",
       "    <tr>\n",
       "      <th>1978-01-09</th>\n",
       "      <td>101.23</td>\n",
       "      <td>229.62</td>\n",
       "      <td>227.844</td>\n",
       "      <td>227.844</td>\n",
       "      <td>1139.22</td>\n",
       "      <td>228.266667</td>\n",
       "      <td>684.80</td>\n",
       "    </tr>\n",
       "    <tr>\n",
       "      <th>1978-01-10</th>\n",
       "      <td>100.95</td>\n",
       "      <td>228.97</td>\n",
       "      <td>227.670</td>\n",
       "      <td>227.670</td>\n",
       "      <td>1138.35</td>\n",
       "      <td>228.593333</td>\n",
       "      <td>685.78</td>\n",
       "    </tr>\n",
       "    <tr>\n",
       "      <th>1978-01-11</th>\n",
       "      <td>102.25</td>\n",
       "      <td>231.22</td>\n",
       "      <td>228.998</td>\n",
       "      <td>228.998</td>\n",
       "      <td>1144.99</td>\n",
       "      <td>229.936667</td>\n",
       "      <td>689.81</td>\n",
       "    </tr>\n",
       "    <tr>\n",
       "      <th>1978-01-12</th>\n",
       "      <td>100.88</td>\n",
       "      <td>227.89</td>\n",
       "      <td>228.978</td>\n",
       "      <td>228.978</td>\n",
       "      <td>1144.89</td>\n",
       "      <td>229.425000</td>\n",
       "      <td>917.70</td>\n",
       "    </tr>\n",
       "  </tbody>\n",
       "</table>\n",
       "</div>"
      ],
      "text/plain": [
       "              gold  silver  silver_moving_average_5  \\\n",
       "date                                                  \n",
       "1978-01-06  100.00  227.19                  226.604   \n",
       "1978-01-09  101.23  229.62                  227.844   \n",
       "1978-01-10  100.95  228.97                  227.670   \n",
       "1978-01-11  102.25  231.22                  228.998   \n",
       "1978-01-12  100.88  227.89                  228.978   \n",
       "\n",
       "            silver_moving_average_5_two  silver_moving_sum_5  \\\n",
       "date                                                           \n",
       "1978-01-06                      226.604              1133.02   \n",
       "1978-01-09                      227.844              1139.22   \n",
       "1978-01-10                      227.670              1138.35   \n",
       "1978-01-11                      228.998              1144.99   \n",
       "1978-01-12                      228.978              1144.89   \n",
       "\n",
       "            silver_moving_average_5D  silver_moving_sum_5D  \n",
       "date                                                        \n",
       "1978-01-06                226.604000               1133.02  \n",
       "1978-01-09                228.266667                684.80  \n",
       "1978-01-10                228.593333                685.78  \n",
       "1978-01-11                229.936667                689.81  \n",
       "1978-01-12                229.425000                917.70  "
      ]
     },
     "execution_count": 10,
     "metadata": {},
     "output_type": "execute_result"
    }
   ],
   "source": [
    "df.head(10).tail()"
   ]
  }
 ],
 "metadata": {
  "kernelspec": {
   "display_name": "Python 3",
   "language": "python",
   "name": "python3"
  },
  "language_info": {
   "codemirror_mode": {
    "name": "ipython",
    "version": 3
   },
   "file_extension": ".py",
   "mimetype": "text/x-python",
   "name": "python",
   "nbconvert_exporter": "python",
   "pygments_lexer": "ipython3",
   "version": "3.11.9"
  }
 },
 "nbformat": 4,
 "nbformat_minor": 4
}
