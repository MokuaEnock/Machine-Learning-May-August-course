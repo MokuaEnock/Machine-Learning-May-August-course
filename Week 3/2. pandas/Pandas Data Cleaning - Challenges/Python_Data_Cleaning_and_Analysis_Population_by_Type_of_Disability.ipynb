{
  "cells": [
    {
      "cell_type": "markdown",
      "metadata": {
        "id": "m0tgCkvzPLEa"
      },
      "source": [
        "# Python Data Cleaning and Analysis - Population by Type of Disability"
      ]
    },
    {
      "cell_type": "markdown",
      "metadata": {
        "id": "VSnOCZ5-IPCi"
      },
      "source": [
        "## 1.0 Importing our Libraries"
      ]
    },
    {
      "cell_type": "code",
      "execution_count": null,
      "metadata": {
        "id": "3r-KDLvrO44a"
      },
      "outputs": [],
      "source": [
        "# Importing the libraries we will need\n",
        "\n",
        "# Importing the pandas library\n",
        "#\n",
        "OUR CODE GOES HERE\n",
        "\n",
        "# Importing the numpy library\n",
        "#\n",
        "OUR CODE GOES HERE"
      ]
    },
    {
      "cell_type": "markdown",
      "metadata": {
        "id": "HToJZ2gBPawZ"
      },
      "source": [
        "## 1.1 Reading the Dataset from our CSV file\n",
        "\n"
      ]
    },
    {
      "cell_type": "markdown",
      "metadata": {
        "id": "LBUr8VUXQX-K"
      },
      "source": [
        "\n",
        "\n",
        "The dataset we will use contains the percentage distribution of population by type of disability for Kenyan counties.\n",
        "\n",
        "\n",
        "*   Dataset link for download or access: [Link](https://drive.google.com/a/moringaschool.com/file/d/13twDwhbJqBr1Dvmlwzv6Mou-irul77cS/view?usp=sharing)\n",
        "\n",
        "\n",
        "\n"
      ]
    },
    {
      "cell_type": "code",
      "execution_count": null,
      "metadata": {
        "id": "1acwmZanRNHs"
      },
      "outputs": [],
      "source": [
        "# Let's read the data from the CSV file and create the dataframe to be used\n",
        "#\n",
        "OUR CODE GOES HERE"
      ]
    },
    {
      "cell_type": "markdown",
      "metadata": {
        "id": "IICLGbvBRYHq"
      },
      "source": [
        "## 1.2 Previewing our Dataset\n"
      ]
    },
    {
      "cell_type": "code",
      "execution_count": null,
      "metadata": {
        "id": "WrwHg-hzR5BY"
      },
      "outputs": [],
      "source": [
        "# Let's preview the first 10 rows of our data\n",
        "#\n",
        "OUR CODE GOES HERE"
      ]
    },
    {
      "cell_type": "markdown",
      "metadata": {
        "id": "RAVzK5O6IR8v"
      },
      "source": [
        "## 1.3 Accessing Information about our Dataset"
      ]
    },
    {
      "cell_type": "code",
      "execution_count": null,
      "metadata": {
        "id": "0d2kfemDIYWI"
      },
      "outputs": [],
      "source": [
        "# Getting to know more about the dataset by accessing its information\n",
        "#\n",
        "OUR CODE GOES HERE"
      ]
    },
    {
      "cell_type": "markdown",
      "metadata": {
        "id": "R9S2o1WXIhq1"
      },
      "source": [
        "## 1.4 Cleaning our Dataset"
      ]
    },
    {
      "cell_type": "markdown",
      "metadata": {
        "id": "eOpM51putz-A"
      },
      "source": [
        "Let us perform data cleaning procedures below providing a documentation for our actions and reasons. We will perform as many data cleaning procedures as we think suitable for the various dimensions of data."
      ]
    },
    {
      "cell_type": "markdown",
      "metadata": {
        "id": "7CCgp2eguA3H"
      },
      "source": [
        "### 1.41) Validity: <font color=\"green\">Challenges</font>"
      ]
    },
    {
      "cell_type": "code",
      "execution_count": null,
      "metadata": {
        "id": "TOyYIM4_tztJ"
      },
      "outputs": [],
      "source": [
        "# Procedure 1: Irrelevant Data Observation\n",
        "# Data Cleaning Action: Dropping Location_1 attribute\n",
        "# Explanation: We won't need it during Analysis. No question to be answered requires that column.\n",
        "#\n",
        "OUR CODE GOES HERE"
      ]
    },
    {
      "cell_type": "code",
      "execution_count": null,
      "metadata": {
        "id": "9wFBDVC9twz9"
      },
      "outputs": [],
      "source": [
        "# Procedure 2: Irrelevant Data Observation\n",
        "# Data Cleaning Action: Drop OBJECTID attribute\n",
        "# Explanation: Its irrelevant to our table i.e. attribute starts from 0 and ends of 48 i.e. No meaning at all.\n",
        "#\n",
        "OUR CODE GOES HERE"
      ]
    },
    {
      "cell_type": "code",
      "execution_count": null,
      "metadata": {
        "id": "DFy7lo5iuIYc"
      },
      "outputs": [],
      "source": [
        "# Procedure 3:\n",
        "# Data Cleaning Action:\n",
        "# Explanation:\n",
        "#\n",
        "OUR CODE GOES HERE"
      ]
    },
    {
      "cell_type": "code",
      "execution_count": null,
      "metadata": {
        "id": "-gTVN-CMusVR"
      },
      "outputs": [],
      "source": [
        "# Procedure 4:\n",
        "# Data Cleaning Action:\n",
        "# Explanation:\n",
        "#\n",
        "OUR CODE GOES HERE"
      ]
    },
    {
      "cell_type": "markdown",
      "metadata": {
        "id": "eyKHF_ubujvV"
      },
      "source": [
        "### 1.42) Accuracy <font color=\"green\">Challenges</font>"
      ]
    },
    {
      "cell_type": "code",
      "execution_count": null,
      "metadata": {
        "id": "9ZsKlZrQulto"
      },
      "outputs": [],
      "source": [
        "# Procedure 1:\n",
        "# Data Cleaning Action:\n",
        "# Explanation:\n",
        "#\n",
        "OUR CODE GOES HERE"
      ]
    },
    {
      "cell_type": "markdown",
      "metadata": {
        "id": "O2f0aJA4uwP1"
      },
      "source": [
        "### 1.43) Completeness <font color=\"green\">Challenges</font>"
      ]
    },
    {
      "cell_type": "code",
      "execution_count": null,
      "metadata": {
        "id": "z2_4QmGPuzNF"
      },
      "outputs": [],
      "source": [
        "# Procedure 1:\n",
        "# Data Cleaning Action:\n",
        "# Explanation:\n",
        "#\n",
        "OUR CODE GOES HERE"
      ]
    },
    {
      "cell_type": "code",
      "execution_count": null,
      "metadata": {
        "id": "X-Dhg5qJvNRM"
      },
      "outputs": [],
      "source": [
        "# Procedure 2:\n",
        "# Data Cleaning Action:\n",
        "# Explanation:\n",
        "#\n",
        "OUR CODE GOES HERE"
      ]
    },
    {
      "cell_type": "markdown",
      "metadata": {
        "id": "ZbjJzXhnuQox"
      },
      "source": [
        "### 1.44) Consitency: <font color=\"green\">Challenges</font>"
      ]
    },
    {
      "cell_type": "code",
      "execution_count": null,
      "metadata": {
        "id": "CUN5YcwQMihS"
      },
      "outputs": [],
      "source": [
        "# Procedure 1: Duplicates\n",
        "# Data Cleaning Action: No action taken\n",
        "# Explanation: There were no duplicate instances\n",
        "#\n",
        "OUR CODE GOES HERE"
      ]
    },
    {
      "cell_type": "markdown",
      "metadata": {
        "id": "yup2hhMNvVed"
      },
      "source": [
        "### 1.45) Uniformity: <font color=\"green\">Challenges<font/>"
      ]
    },
    {
      "cell_type": "code",
      "execution_count": null,
      "metadata": {
        "id": "qcuXOaeivb3e"
      },
      "outputs": [],
      "source": [
        "# Procedure 1:\n",
        "# Data Cleaning Action:\n",
        "# Explanation:\n",
        "#\n",
        "OUR CODE GOES HERE"
      ]
    },
    {
      "cell_type": "code",
      "execution_count": null,
      "metadata": {
        "id": "yKTtLTTQvnJn"
      },
      "outputs": [],
      "source": [
        "# Procedure 2:\n",
        "# Data Cleaning Action:\n",
        "# Explanation:\n",
        "#\n",
        "OUR CODE GOES HERE"
      ]
    },
    {
      "cell_type": "markdown",
      "metadata": {
        "id": "-mQqTilAaZeO"
      },
      "source": [
        "### Exporting the Cleaned Dataset"
      ]
    },
    {
      "cell_type": "code",
      "execution_count": null,
      "metadata": {
        "id": "1h7kChQDaYA4"
      },
      "outputs": [],
      "source": [
        "# Let's export our dataframe into a csv file as shown\n",
        "# in the example given in the following line;\n",
        "# daframe.to_csv('example.csv')\n",
        "# In the above case daframe is the dataframe which would like to export.\n",
        "# we use the to_csv function to create a csv file with the name example\n",
        "# and export it\n",
        "#\n",
        "OUR CODE GOES HERE"
      ]
    },
    {
      "cell_type": "markdown",
      "metadata": {
        "id": "NicC8P9LMjvO"
      },
      "source": [
        "## 1.5 Answering Questions"
      ]
    },
    {
      "cell_type": "markdown",
      "metadata": {
        "id": "8izhaW7UNYGJ"
      },
      "source": [
        "Let's answer the following questions with our dataset using python."
      ]
    },
    {
      "cell_type": "code",
      "execution_count": null,
      "metadata": {
        "id": "tTOgnXvuMxcn"
      },
      "outputs": [],
      "source": [
        "# Challenge 1\n",
        "# Which county had the highest no. of registered deaf persons?\n",
        "#\n",
        "OUR CODE GOES HERE"
      ]
    },
    {
      "cell_type": "code",
      "execution_count": null,
      "metadata": {
        "id": "BNegesaWNvQs"
      },
      "outputs": [],
      "source": [
        "# Challenge 2\n",
        "# Which county had the highest no. of registered persons with a missing hand?\n",
        "#\n",
        "OUR CODE GOES HERE"
      ]
    },
    {
      "cell_type": "code",
      "execution_count": null,
      "metadata": {
        "id": "7tilTerhNyiP"
      },
      "outputs": [],
      "source": [
        "# Challenge 3\n",
        "# Which county had the highest no. of registered persons with a missing foot?\n",
        "#\n",
        "OUR CODE GOES HERE"
      ]
    },
    {
      "cell_type": "code",
      "execution_count": null,
      "metadata": {
        "id": "rhXeHa6IOBsq"
      },
      "outputs": [],
      "source": [
        "# Challenge 4\n",
        "# Which county had the highest no. of registered lame persons?\n",
        "#\n",
        "OUR CODE GOES HERE"
      ]
    },
    {
      "cell_type": "code",
      "execution_count": null,
      "metadata": {
        "id": "wddDP6yCOD_F"
      },
      "outputs": [],
      "source": [
        "# Challenge 5\n",
        "# Which county had the lowest no. of registered blind persons?\n",
        "#\n",
        "OUR CODE GOES HERE"
      ]
    },
    {
      "cell_type": "code",
      "execution_count": null,
      "metadata": {
        "id": "OemJ0HDYOHCq"
      },
      "outputs": [],
      "source": [
        "# Challenge 6\n",
        "# Which county had the highest third no. of registered deaf persons?\n",
        "#\n",
        "OUR CODE GOES HERE"
      ]
    },
    {
      "cell_type": "code",
      "execution_count": null,
      "metadata": {
        "id": "CIxC5arSOLak"
      },
      "outputs": [],
      "source": [
        "# Challenge 7\n",
        "# In descending order, which top 5 counties had the highest no. of registered dumb persons?\n",
        "#\n",
        "OUR CODE GOES HERE"
      ]
    },
    {
      "cell_type": "code",
      "execution_count": null,
      "metadata": {
        "id": "gSjjnw56OP8O"
      },
      "outputs": [],
      "source": [
        "# Challenge 8\n",
        "# In ascending order, which top 5 counties had the highest no. of registered persons with a mental disability?\n",
        "#\n",
        "OUR CODE GOES HERE"
      ]
    },
    {
      "cell_type": "code",
      "execution_count": null,
      "metadata": {
        "id": "UZLYqF7UOTtu"
      },
      "outputs": [],
      "source": [
        "# Challenge 9\n",
        "# Which counties had no registerd blind persons nor deaf persons?\n",
        "#\n",
        "OUR CODE GOES HERE"
      ]
    },
    {
      "cell_type": "code",
      "execution_count": null,
      "metadata": {
        "id": "1qk8wF3MOXDu"
      },
      "outputs": [],
      "source": [
        "# Challenge 10\n",
        "# Which disability was the most registered across all the counties?\n",
        "#\n",
        "OUR CODE GOES HERE"
      ]
    },
    {
      "cell_type": "code",
      "execution_count": null,
      "metadata": {
        "id": "8xkStdjdXS3w"
      },
      "outputs": [],
      "source": [
        "# Challenge 11\n",
        "# Which disability was the least registered across all the counties?\n",
        "#\n",
        "OUR CODE GOES HERE"
      ]
    },
    {
      "cell_type": "code",
      "execution_count": null,
      "metadata": {
        "id": "rgVsXH_5XVCh"
      },
      "outputs": [],
      "source": [
        "# Challenge 12\n",
        "# What was the average no. of registered persons with a disability?\n",
        "#\n",
        "OUR CODE GOES HERE"
      ]
    },
    {
      "cell_type": "code",
      "execution_count": null,
      "metadata": {
        "id": "XvvFWhuDXXeP"
      },
      "outputs": [],
      "source": [
        "# Challenge 13\n",
        "# Which three counties had least registered persons with disabilities?\n",
        "#\n",
        "OUR CODE GOES HERE"
      ]
    },
    {
      "cell_type": "code",
      "execution_count": null,
      "metadata": {
        "id": "q1iq02FuXc2R"
      },
      "outputs": [],
      "source": [
        "# Challenge 14\n",
        "# What was the total no of registered persons with a disability across all counties?\n",
        "#\n",
        "OUR CODE GOES HERE"
      ]
    },
    {
      "cell_type": "code",
      "execution_count": null,
      "metadata": {
        "id": "drAWpxBZXhcF"
      },
      "outputs": [],
      "source": [
        "# Challenge 15\n",
        "# Which top 3 counties has the highest no. of registered persons with a disability?\n",
        "#\n",
        "OUR CODE GOES HERE"
      ]
    }
  ],
  "metadata": {
    "colab": {
      "collapsed_sections": [
        "VSnOCZ5-IPCi",
        "HToJZ2gBPawZ",
        "IICLGbvBRYHq",
        "RAVzK5O6IR8v",
        "R9S2o1WXIhq1",
        "7CCgp2eguA3H",
        "eyKHF_ubujvV",
        "O2f0aJA4uwP1",
        "ZbjJzXhnuQox",
        "yup2hhMNvVed",
        "NicC8P9LMjvO"
      ],
      "provenance": [],
      "toc_visible": true
    },
    "kernelspec": {
      "display_name": "Python 3",
      "name": "python3"
    }
  },
  "nbformat": 4,
  "nbformat_minor": 0
}
