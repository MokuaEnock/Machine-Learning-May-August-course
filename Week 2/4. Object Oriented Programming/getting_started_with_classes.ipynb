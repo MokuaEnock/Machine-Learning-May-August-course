{
 "cells": [
  {
   "cell_type": "markdown",
   "metadata": {},
   "source": [
    "## An Introduction to Object Oriented Programming (OOP)\n",
    "\n",
    "Object-Oriented programming is a widely used concept to write powerful applications. As a data scientist, you will be required to write applications to process your data, among a range of other things. In this tutorial, you will discover the basics of object-oriented programming in Python. You will learn the following:\n",
    "\n",
    "- How to create a class\n",
    "\n",
    "- Instantiating object\n",
    "\n",
    "- \n",
    "Adding attributes to a cl s\n",
    "s- \r\n",
    "Defining methods within a a- s\n",
    "- s\r\n",
    "Passing arguments to h\n",
    "- \n",
    "  ods\r\n",
    "How OOP can be used in Python for fi\n",
    "\n",
    "## OOP Introductionn\n",
    "Object-oriented programming has some advantages over other design patterns. Development is faster and cheaper, with better software maintainability. This, in turn, leads to higher-quality software, which is also extensible with new methods and attributes. The learning curve is, however, steeper. The concept may be too complex for beginners. Computationally, OOP software is slower, and uses more memory since more lines of code have to be written.\r\n",
    "\r\n",
    "Object-oriented programming is based on the imperative programming paradigm, which uses statements to change a program's state. It focuses on describing how a program should operate. Examples of imperative programming languages are C, C++, Java, Go, Ruby and Python. This stands in contrast to declarative programming, which focuses on what the computer program should accomplish, without specifying how. Examples are database query languages like SQL and XQuery, where one only tells the computer what data to query from where, but now how to do it.\r\n",
    "\r\n",
    "OOP uses the concept of objects and classes. A class can be thought of as a 'blueprint' for objects. These can have their own attributes (characteristics they possess), and methods (actions they perfo\n",
    "\n",
    "## OOP Example\n",
    "\n",
    "An example of a class is the class `Dog`. Don't think of it as a specific dog, or your own dog. We're describing what a dog is and can do, in general. Dogs usually have a `name` and `age`; these are instance attributes. Dogs can also `bark`; this is a method.\r\n",
    "\r\n",
    "When you talk about a specific dog, you would have an object in programming: an object is an instantiation of a class. This is the basic principle on which object-oriented programming is based. So my dog Ozzy, for example, belongs to the clas`s D`og. His attributes ar`e name = 'Ozz`y' an`d age = '`2'. A different dog will have different attribute\n",
    "\n",
    "## How to create a class\n",
    "\n",
    "To define a class in Python, you can use the `class` keyword, followed by the class name and a colon. Inside the class, an `__init__` method has to be defined with `def`. This is the initializer that you can later use to instantiate objects. It's similar to a constructor in Java. `__init__` must always be present! It takes one argument: `self`, which refers to the object itself. Inside the method, the `pass` keyword is used as of now, because Python expects you to type something there. Remember to use correct indentation!s.rm).ance\n"
   ]
  },
  {
   "cell_type": "code",
   "execution_count": null,
   "metadata": {},
   "outputs": [],
   "source": [
    "mammals\n",
    "\n",
    "human beings, 2, 32, talk, baby\n",
    "monkeys, 2, 32, chatter, baby\n",
    "cats, 4, 16, purr, kittens\n",
    "dogs, 4, 12, bark, puppies"
   ]
  },
  {
   "cell_type": "code",
   "execution_count": null,
   "metadata": {},
   "outputs": [],
   "source": []
  },
  {
   "cell_type": "code",
   "execution_count": 1,
   "metadata": {},
   "outputs": [],
   "source": [
    "class Dog:\n",
    "\n",
    "    def __init__(self):\n",
    "        pass"
   ]
  },
  {
   "cell_type": "markdown",
   "metadata": {},
   "source": [
    "> Note: `self` in Python is equivalent to `this` in C++ or Java.\n",
    "\n",
    "In this case, you have a (mostly empty) `Dog` class, but no object yet. Let's create one!\n",
    "\n",
    "### Instatiating objects\n",
    "\n",
    "To instantiate an object, type the class name, followed by two brackets. You can assign this to a variable to keep track of the object."
   ]
  },
  {
   "cell_type": "code",
   "execution_count": 1,
   "metadata": {},
   "outputs": [
    {
     "ename": "NameError",
     "evalue": "name 'Dog' is not defined",
     "output_type": "error",
     "traceback": [
      "\u001b[1;31m---------------------------------------------------------------------------\u001b[0m",
      "\u001b[1;31mNameError\u001b[0m                                 Traceback (most recent call last)",
      "Cell \u001b[1;32mIn[1], line 1\u001b[0m\n\u001b[1;32m----> 1\u001b[0m ozzy \u001b[38;5;241m=\u001b[39m Dog()\n",
      "\u001b[1;31mNameError\u001b[0m: name 'Dog' is not defined"
     ]
    }
   ],
   "source": [
    "ozzy = Dog()"
   ]
  },
  {
   "cell_type": "code",
   "execution_count": null,
   "metadata": {},
   "outputs": [],
   "source": [
    "print(ozzy)"
   ]
  },
  {
   "cell_type": "markdown",
   "metadata": {},
   "source": [
    "### Adding Attributes to a Class\n",
    "\n",
    "After printing `ozzy`, it is clear that this object is a dog. But you haven't added any attributes yet. Let's give the `Dog` class a name and age by rewriting it:"
   ]
  },
  {
   "cell_type": "code",
   "execution_count": null,
   "metadata": {},
   "outputs": [],
   "source": [
    "class Dog: \n",
    "    def __init__(self, name, age):\n",
    "        self.name = name\n",
    "        self.age = age"
   ]
  },
  {
   "cell_type": "markdown",
   "metadata": {},
   "source": [
    "You can see that the function now takes two arguments after `self: name` and `age`. These then get assigned to `self.name` and `self.age` respectively. You can now create a new `ozzy` object with a name and age:"
   ]
  },
  {
   "cell_type": "code",
   "execution_count": 2,
   "metadata": {},
   "outputs": [
    {
     "ename": "NameError",
     "evalue": "name 'Dog' is not defined",
     "output_type": "error",
     "traceback": [
      "\u001b[1;31m---------------------------------------------------------------------------\u001b[0m",
      "\u001b[1;31mNameError\u001b[0m                                 Traceback (most recent call last)",
      "Cell \u001b[1;32mIn[2], line 1\u001b[0m\n\u001b[1;32m----> 1\u001b[0m ozzy \u001b[38;5;241m=\u001b[39m Dog(\u001b[38;5;124m\"\u001b[39m\u001b[38;5;124mOzzy\u001b[39m\u001b[38;5;124m\"\u001b[39m, \u001b[38;5;241m2\u001b[39m)\n",
      "\u001b[1;31mNameError\u001b[0m: name 'Dog' is not defined"
     ]
    }
   ],
   "source": [
    "ozzy = Dog(\"Ozzy\", 2)"
   ]
  },
  {
   "cell_type": "code",
   "execution_count": 3,
   "metadata": {},
   "outputs": [
    {
     "ename": "NameError",
     "evalue": "name 'ozzy' is not defined",
     "output_type": "error",
     "traceback": [
      "\u001b[1;31m---------------------------------------------------------------------------\u001b[0m",
      "\u001b[1;31mNameError\u001b[0m                                 Traceback (most recent call last)",
      "Cell \u001b[1;32mIn[3], line 1\u001b[0m\n\u001b[1;32m----> 1\u001b[0m \u001b[38;5;28mprint\u001b[39m(ozzy)\n",
      "\u001b[1;31mNameError\u001b[0m: name 'ozzy' is not defined"
     ]
    }
   ],
   "source": [
    "print(ozzy)"
   ]
  },
  {
   "cell_type": "markdown",
   "metadata": {},
   "source": [
    "To access an object's attributes in Python, you can use the dot notation. This is done by typing the name of the object, followed by a dot and the attribute's name"
   ]
  },
  {
   "cell_type": "code",
   "execution_count": 7,
   "metadata": {},
   "outputs": [
    {
     "name": "stdout",
     "output_type": "stream",
     "text": [
      "Ozzy\n",
      "2\n"
     ]
    }
   ],
   "source": [
    "print(ozzy.name)\n",
    "print(ozzy.age)"
   ]
  },
  {
   "cell_type": "markdown",
   "metadata": {},
   "source": [
    "This can also be combined in a more elaborate sentence:"
   ]
  },
  {
   "cell_type": "code",
   "execution_count": 8,
   "metadata": {},
   "outputs": [
    {
     "name": "stdout",
     "output_type": "stream",
     "text": [
      "Ozzy is 2 year(s) old.\n"
     ]
    }
   ],
   "source": [
    "print(ozzy.name + \" is \" + str(ozzy.age) + \" year(s) old.\")"
   ]
  },
  {
   "cell_type": "markdown",
   "metadata": {},
   "source": [
    "The `str()` function is used here to convert the `age` attribute, which is an integer, to a string, so you can use it in the `print()` function.\n",
    "\n",
    "### Define methods in a class\n",
    "\n",
    "Now that you have a `Dog` class, it does have a name and age, which you can keep track of, but it doesn't actually do anything. This is where instance methods come in. You can rewrite the class to now include a `bark()` method. Notice how the `def` keyword is used again, as well as the `self` argument."
   ]
  },
  {
   "cell_type": "code",
   "execution_count": 9,
   "metadata": {},
   "outputs": [],
   "source": [
    "class Dog:\n",
    "    def __init__(self, name, age):\n",
    "        self.name = name\n",
    "        self.age = age\n",
    "\n",
    "    def bark(self):\n",
    "        print(\"Bark!\")"
   ]
  },
  {
   "cell_type": "markdown",
   "metadata": {},
   "source": [
    "The `bark` method can now be called using the dot notation, after instantiating a new `ozzy` object. The method should print \"Bark!\" to the screen. Notice the parentheses (curly brackets) in `.bark()`. These are always used when calling a method. They're empty in this case, since the `bark()` method does not take any arguments."
   ]
  },
  {
   "cell_type": "code",
   "execution_count": 10,
   "metadata": {},
   "outputs": [
    {
     "name": "stdout",
     "output_type": "stream",
     "text": [
      "Bark!\n"
     ]
    }
   ],
   "source": [
    "ozzy = Dog(\"Ozzy\", 2)\n",
    "\n",
    "ozzy.bark()\n"
   ]
  },
  {
   "cell_type": "markdown",
   "metadata": {},
   "source": [
    "Recall how you printed `ozzy` earlier? The code below now implements this functionality in the `Dog` class, with the `doginfo()` method. You then instantiate some objects with different properties, and call the method on them."
   ]
  },
  {
   "cell_type": "code",
   "execution_count": 11,
   "metadata": {},
   "outputs": [],
   "source": [
    "class Dog():\n",
    "    def __init__(self, name, age):\n",
    "        self.name = name\n",
    "        self.age = age\n",
    "    def bark(self):\n",
    "        print(\"Bark!\")\n",
    "\n",
    "    def doginfo(self):\n",
    "        print(self.name + \" is \" + str(self.age) + \" year(s) old.\")\n",
    "        "
   ]
  },
  {
   "cell_type": "code",
   "execution_count": 12,
   "metadata": {},
   "outputs": [],
   "source": [
    "ozzy = Dog(\"Ozzy\", 2)\n",
    "skippy = Dog(\"Skippy\", 12)\n",
    "filou = Dog(\"Filou\", 8)"
   ]
  },
  {
   "cell_type": "code",
   "execution_count": 14,
   "metadata": {},
   "outputs": [
    {
     "name": "stdout",
     "output_type": "stream",
     "text": [
      "Ozzy is 2 year(s) old.\n",
      "Skippy is 12 year(s) old.\n",
      "Filou is 8 year(s) old.\n"
     ]
    }
   ],
   "source": [
    "ozzy.doginfo()\n",
    "skippy.doginfo()\n",
    "filou.doginfo()"
   ]
  },
  {
   "cell_type": "markdown",
   "metadata": {},
   "source": [
    "As you can see, you can call the `doginfo()` method on objects with the dot notation. The response now depends on which `Dog` object you are calling the method on.\n",
    "\n",
    "Since dogs get older, it would be nice if you could adjust their age accordingly. Ozzy just turned 3, so let's change his age."
   ]
  },
  {
   "cell_type": "code",
   "execution_count": 15,
   "metadata": {},
   "outputs": [],
   "source": [
    "ozzy.age = 3"
   ]
  },
  {
   "cell_type": "code",
   "execution_count": 16,
   "metadata": {},
   "outputs": [
    {
     "name": "stdout",
     "output_type": "stream",
     "text": [
      "3\n"
     ]
    }
   ],
   "source": [
    "print(ozzy.age)"
   ]
  },
  {
   "cell_type": "markdown",
   "metadata": {},
   "source": [
    "It's as easy as assigning a new value to the attribute. You could also implement this as a `birthday()` method in the Dog class:"
   ]
  },
  {
   "cell_type": "code",
   "execution_count": 24,
   "metadata": {},
   "outputs": [],
   "source": [
    "class Dog:\n",
    "\n",
    "    def __init__(self, name, age):  \n",
    "        self.name = name\n",
    "        self.age = age\n",
    "\n",
    "    def bark(self):\n",
    "        print(\"bark bark!\")\n",
    "\n",
    "    def doginfo(self):\n",
    "        print(self.name + \" is \" + str(self.age) + \" year(s) old.\")\n",
    "\n",
    "    def birthday(self):\n",
    "        self.age +=1"
   ]
  },
  {
   "cell_type": "code",
   "execution_count": 25,
   "metadata": {},
   "outputs": [],
   "source": [
    "ozzy = Dog(\"Ozzy\", 2)\n"
   ]
  },
  {
   "cell_type": "code",
   "execution_count": 26,
   "metadata": {},
   "outputs": [
    {
     "name": "stdout",
     "output_type": "stream",
     "text": [
      "2\n"
     ]
    }
   ],
   "source": [
    "print(ozzy.age)"
   ]
  },
  {
   "cell_type": "code",
   "execution_count": 29,
   "metadata": {},
   "outputs": [],
   "source": [
    "ozzy.birthday()"
   ]
  },
  {
   "cell_type": "code",
   "execution_count": 30,
   "metadata": {},
   "outputs": [
    {
     "name": "stdout",
     "output_type": "stream",
     "text": [
      "4\n"
     ]
    }
   ],
   "source": [
    "print(ozzy.age)"
   ]
  },
  {
   "cell_type": "markdown",
   "metadata": {},
   "source": [
    "### Passing arguments to methods\n",
    "\n",
    "You would like for our dogs to have a buddy. This should be optional since not all dogs are as sociable. Take a look at the `setBuddy()` method below. It takes `self`, as per usual, and buddy as arguments. In this case, `buddy` will be another Dog object. Set the `self.buddy` attribute to buddy, and the `buddy.buddy` attribute to `self`. This means that the relationship is reciprocal; you are your buddy's buddy. In this case, Filou will be Ozzy's buddy, which means that Ozzy automatically becomes Filou's buddy. You could also set these attributes manually instead of defining a method, but that would require more work (writing two lines of code instead of one) every time you want to set a buddy. Notice that in Python, you don't need to specify what type the argument is. If this were Java, it would be required."
   ]
  },
  {
   "cell_type": "code",
   "execution_count": 31,
   "metadata": {},
   "outputs": [],
   "source": [
    "class Dog:\n",
    "\n",
    "    def __init__(self, name, age):  \n",
    "        self.name = name\n",
    "        self.age = age\n",
    "\n",
    "    def bark(self):\n",
    "        print(\"bark bark!\")\n",
    "\n",
    "    def doginfo(self):\n",
    "        print(self.name + \" is \" + str(self.age) + \" year(s) old.\")\n",
    "\n",
    "    def birthday(self):\n",
    "        self.age +=1\n",
    "\n",
    "    def setBuddy(self, buddy):\n",
    "        self.buddy = buddy\n",
    "        buddy.buddy = self"
   ]
  },
  {
   "cell_type": "code",
   "execution_count": 32,
   "metadata": {},
   "outputs": [],
   "source": [
    "ozzy = Dog(\"Ozzy\", 2)\n",
    "filou = Dog(\"Filou\", 8)\n",
    "\n",
    "ozzy.setBuddy(filou)"
   ]
  },
  {
   "cell_type": "code",
   "execution_count": 33,
   "metadata": {},
   "outputs": [
    {
     "name": "stdout",
     "output_type": "stream",
     "text": [
      "Filou\n",
      "8\n"
     ]
    }
   ],
   "source": [
    "print(ozzy.buddy.name)\n",
    "print(ozzy.buddy.age)"
   ]
  },
  {
   "cell_type": "markdown",
   "metadata": {},
   "source": [
    "Notice how this can also be done for Filou.\r\n",
    "\r\n",
    "\r\n"
   ]
  },
  {
   "cell_type": "code",
   "execution_count": 34,
   "metadata": {},
   "outputs": [
    {
     "name": "stdout",
     "output_type": "stream",
     "text": [
      "Ozzy\n",
      "2\n"
     ]
    }
   ],
   "source": [
    "print(filou.buddy.name)\n",
    "print(filou.buddy.age)"
   ]
  },
  {
   "cell_type": "markdown",
   "metadata": {},
   "source": [
    "The buddy's methods can also be called. The `self` argument that gets passed to `doginfo()` is now `ozzy.buddy`, which is `filou`."
   ]
  },
  {
   "cell_type": "code",
   "execution_count": 35,
   "metadata": {},
   "outputs": [
    {
     "name": "stdout",
     "output_type": "stream",
     "text": [
      "Filou is 8 year(s) old.\n"
     ]
    }
   ],
   "source": [
    " ozzy.buddy.doginfo()"
   ]
  },
  {
   "cell_type": "markdown",
   "metadata": {},
   "source": [
    "## Python Inheritance\r\n",
    "\r\n",
    "In Python object-oriented programming, inheritance is the capability of one class to derive or inherit properties from another class. The class that derives properties is called the derived class or child class, and the class from which the properties are being derived is called the base class or parent class. The benefits of inheritance are:\r\n",
    "\r\n",
    "- It represents real-world relationships well.\r\n",
    "- It provides reusability of code. We don’t have to write the same code again and again. Also, it allows us to add more features to a class without modifying it.\r\n",
    "- It is transitive in nature, which means that if class B inherits from another class A, then all the subclasses of B would automatically inherit from class A.\r\n",
    "\r\n",
    "#### Types of Inheritance\r\n",
    "\r\n",
    "1. **Single Inheritance**: Single-level inheritance enables a derived class to inherit characteristics from a single parent class.\r\n",
    "2. **Multilevel Inheritance**: Multi-level inheritance enables a derived class to inherit properties from an immediate parent class, which in turn inherits properties from its parent class.\r\n",
    "3. **Hierarchical Inheritance**: Hierarchical inheritance enables more than one derived class to inherit properties from a parent class.\r\n",
    "4. **Multiple Inheritance**: Multiple inheritance enables one derived class to inherit properties from more than one base class.\r\n",
    "\r\n",
    "#### Inheritance in Python\r\n",
    "\r\n",
    "In the example below, we have created two classes: `Person` (parent class) and `Employee` (child class). The `Employee` class inherits from the `Person` class. We can use the methods of the `Person` class through the `Employee` class, as seen in the `display` function in the code. A child class can also modify the behavior of the parent class, as seen through the `details()` method.\r\n",
    "s() method."
   ]
  },
  {
   "cell_type": "code",
   "execution_count": 36,
   "metadata": {},
   "outputs": [],
   "source": [
    "class Person(object):\n",
    "    # __init__ is known as the constructor\n",
    "    def __init__(self, name, idnumber):\n",
    "        self.name = name\n",
    "        self.idnumber = idnumber\n",
    "\n",
    "    def display(self):\n",
    "        print(self.name)\n",
    "        print(self.idnumber)\n",
    "        \n",
    "    def details(self):\n",
    "        print(\"My name is {}\".format(self.name))\n",
    "        print(\"IdNumber: {}\".format(self.idnumber))\n",
    "    \n",
    "# child class\n",
    "class Employee(Person):\n",
    "    def __init__(self, name, idnumber, salary, post):\n",
    "        self.salary = salary\n",
    "        self.post = post\n",
    "\n",
    "        # invoking the __init__ of the parent class\n",
    "        Person.__init__(self, name, idnumber)\n",
    "        \n",
    "    def details(self):\n",
    "        print(\"My name is {}\".format(self.name))\n",
    "        print(\"IdNumber: {}\".format(self.idnumber))\n",
    "        print(\"Post: {}\".format(self.post))\n"
   ]
  },
  {
   "cell_type": "code",
   "execution_count": 40,
   "metadata": {},
   "outputs": [
    {
     "name": "stdout",
     "output_type": "stream",
     "text": [
      "Enock\n",
      "886012\n"
     ]
    }
   ],
   "source": [
    "a = Employee('Enock', 886012, 200000, \"Intern\")\n",
    "\n",
    "# calling a function of the class Person using its instance\n",
    "a.display()\n",
    "# a.details()"
   ]
  },
  {
   "cell_type": "markdown",
   "metadata": {},
   "source": [
    "#### Differences between Class, Instance, Functions and Methods\n",
    "\n",
    "| Concept   | Definition                                                                                                                                     | Example Usage                          |\n",
    "|-----------|-------------------------------------------------------------------------------------------------------------------------------------------------|----------------------------------------|\n",
    "| Class     | A blueprint for creating objects, defining a set of attributes and methods that the created objects (instances) will have.                      | `class Dog:`                           |\n",
    "| Instance  | An individual object created from a class, representing one specific entity with its own unique data.                                           | `my_dog = Dog(\"Buddy\")`                |\n",
    "| Function  | A block of code that performs a specific task, defined using the `def` keyword. Functions are not necessarily tied to classes.                  | `def add(a, b): return a + b`          |\n",
    "| Method    | A function that is defined within a class and is associated with instances of that class. Methods can operate on data contained in the instance. | `def speak(self): print(\"Woof!\")`      |\n",
    "\n",
    "### Details\n",
    "\n",
    "- **Class**: Defines a type and contains attributes and methods. Classes are templates for creating objects.\n",
    "    ```python\n",
    "    class Dog:\n",
    "        def __init__(self, name):\n",
    "            self.name = name\n",
    "        def speak(self):\n",
    "            print(f\"{self.name} says woof!\")\n",
    "    ```\n",
    "\n",
    "- **Instance**: A specific object created from a class, containing data and having access to class methods.\n",
    "    ```python\n",
    "    my_dog = Dog(\"Buddy\")\n",
    "    ```\n",
    "\n",
    "- **Function**: Independent reusable block of code that performs a specific task, defined outside of classes.\n",
    "    ```python\n",
    "    def add(a, b):\n",
    "        return a + b\n",
    "    ```\n",
    "\n",
    "- **Method**: A function that is defined inside a class and is bound to class instances. Methods typically manipulate or utilize instance attributes.\n",
    "    ```python\n",
    "    class Dog:\n",
    "        def speak(self):\n",
    "            print(\"Woof!\")\n",
    "    ```\n",
    "\n",
    "### Comparison\n",
    "\n",
    "- **Scope**: \n",
    "  - Classes are blueprints for creating instances.\n",
    "  - Instances are concrete objects created from classes.\n",
    "  - Functions are standalone and can be used anywhere in the code.\n",
    "  - Methods are functions tied to class instances.\n",
    "\n",
    "- **Usage**:\n",
    "  - Classes organize code and create new types.\n",
    "  - Instances hold data and interact with other objects.\n",
    "  - Functions perform specific tasks without being tied to any particular data.\n",
    "  - Methods operate on instance data and provide behavior for instances.\n"
   ]
  },
  {
   "cell_type": "markdown",
   "metadata": {},
   "source": [
    "### Practical Examples\n",
    "\n",
    "#### 1. Create a class Book with attributes and a method to display book details.\n",
    "\n",
    "- Define a class Book.\n",
    "- Add attributes: title, author, and year.\n",
    "- Create an __init__ method to initialize these attributes.\n",
    "- Add a method display_info that prints the details of the book.\n",
    "\n",
    "#### 2. Create a class `Rectangle` with attributes for length and width, and methods to calculate the area and perimeter.\n",
    "\n",
    "- Define a class `Rectangle`.\n",
    "- Add attributes: `length` and width.\n",
    "- Create an `__init__` method to initialize these attributes.\n",
    "- Add a method `area` that returns the area of the rectangle.\n",
    "- Add a method `perimeter` that returns the perimeter of the rectangle.\n",
    "\n",
    "#### 3. Create a base class `Animal` and a derived class `Dog` that inherits from Animal.\n",
    "\n",
    "- Define a base class Animal with an attribute name.\n",
    "- Create an __init__ method to initialize the name attribute.\n",
    "- Add a method speak in Animal that prints a generic message.\n",
    "- Define a derived class Dog that inherits from Animal.\n",
    "- Override the speak method in Dog to print a dog-specific message.\n"
   ]
  },
  {
   "cell_type": "code",
   "execution_count": null,
   "metadata": {},
   "outputs": [],
   "source": []
  }
 ],
 "metadata": {
  "kernelspec": {
   "display_name": "Python 3 (ipykernel)",
   "language": "python",
   "name": "python3"
  },
  "language_info": {
   "codemirror_mode": {
    "name": "ipython",
    "version": 3
   },
   "file_extension": ".py",
   "mimetype": "text/x-python",
   "name": "python",
   "nbconvert_exporter": "python",
   "pygments_lexer": "ipython3",
   "version": "3.11.9"
  }
 },
 "nbformat": 4,
 "nbformat_minor": 4
}
