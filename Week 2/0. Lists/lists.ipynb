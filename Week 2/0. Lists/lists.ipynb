{
 "cells": [
  {
   "cell_type": "markdown",
   "metadata": {},
   "source": [
    "# Lists in Python 📋\n",
    "\n",
    "Lists are one of the most versatile and commonly used data structures in Python. This tutorial will take you from the basics to advanced concepts, ensuring you have a solid understanding of lists.\n",
    "\n",
    "## Table of Contents\n",
    "1. [Introduction to Lists](#1-introduction-to-lists)\n",
    "2. [Basic List Operations](#2-basic-list-operations)\n",
    "3. [List Methods](#3-list-methods)\n",
    "4. [List Comprehensions](#4-list-comprehensions)\n",
    "5. [Nested Lists](#5-nested-lists)\n",
    "6. [Advanced List Operations](#6-advanced-list-operations)\n",
    "7. [Performance Considerations](#7-performance-considerations)\n",
    "8. [Practical Examples](#8-practical-examples)\n",
    "\n",
    "## 1. Introduction to Lists\n",
    "\n",
    "A Python list is a mutable collection of heterogeneous elements (items) under one variable name. In this context, mutability means the elements inside a list can be changed while the program is running. We also can add or remove elements from a list whenever we want. In Python, we define lists by enclosing the elements between square brackets and separating them with commas. Each list’s element has an index representing the element's position in the list with a starting index of zero.\n",
    "\n",
    "### 1.1 Creating Python Lists\n",
    "\n",
    "To define a Python list, you need to use the following syntax:\n",
    "\n",
    "`variable_name = [item1, item2, item3, … , itemN]`\n",
    "\n",
    "As an example, let's create our first Python list.\n",
    "\n",
    "> CRUD \n",
    "\n",
    "- C - Create\n",
    "- R - Read\n",
    "- U - Update\n",
    "- D - Delete"
   ]
  },
  {
   "cell_type": "code",
   "execution_count": 4,
   "metadata": {},
   "outputs": [
    {
     "name": "stdout",
     "output_type": "stream",
     "text": [
      "['eggs', 'milk', 'bread', 'butter']\n"
     ]
    }
   ],
   "source": [
    "# creating our first Python list\n",
    "shopping_list = [\"eggs\", \"milk\", \"bread\", \"butter\"]\n",
    "\n",
    "print(shopping_list)"
   ]
  },
  {
   "cell_type": "markdown",
   "metadata": {},
   "source": [
    "The code above implements a Python list with four elements that all are strings. Now, let’s create a list that holds only the prices of what we have on the shopping list."
   ]
  },
  {
   "cell_type": "code",
   "execution_count": 8,
   "metadata": {},
   "outputs": [
    {
     "name": "stdout",
     "output_type": "stream",
     "text": [
      "[13.99, 8.5, 7.9, 12.5]\n"
     ]
    }
   ],
   "source": [
    "# creating a list with integers only\n",
    "\n",
    "price_list = [13.99, 8.50, 7.90, 12.50]\n",
    "\n",
    "print(price_list)"
   ]
  },
  {
   "cell_type": "markdown",
   "metadata": {},
   "source": [
    "As we mentioned in the definition of the Python lists, the list items don't have to all be the same data type. They can be any object since everything is an object in Python."
   ]
  },
  {
   "cell_type": "code",
   "execution_count": 10,
   "metadata": {},
   "outputs": [
    {
     "name": "stdout",
     "output_type": "stream",
     "text": [
      "['Acacia', 100, 'data', 10.01, True, 'A']\n"
     ]
    }
   ],
   "source": [
    "# a list with mixed data types\n",
    "\n",
    "a_mixed_list = [\"Acacia\", 100, \"data\", 10.01, True, 'A']\n",
    "\n",
    "print(a_mixed_list)"
   ]
  },
  {
   "cell_type": "markdown",
   "metadata": {},
   "source": [
    "Now, let’s check the data type of these lists:"
   ]
  },
  {
   "cell_type": "code",
   "execution_count": 11,
   "metadata": {},
   "outputs": [
    {
     "name": "stdout",
     "output_type": "stream",
     "text": [
      "<class 'list'>\n",
      "<class 'list'>\n",
      "<class 'list'>\n"
     ]
    }
   ],
   "source": [
    "print(type(shopping_list))\n",
    "print(type(price_list))\n",
    "print(type(a_mixed_list))"
   ]
  },
  {
   "cell_type": "markdown",
   "metadata": {},
   "source": [
    "## 2. Accessing elements of a list\n",
    "\n",
    "As we have seen, each item in a list has its own index, so they can be retrieved using their associated indices. Let’s try the code:\n"
   ]
  },
  {
   "cell_type": "code",
   "execution_count": 13,
   "metadata": {},
   "outputs": [
    {
     "name": "stdout",
     "output_type": "stream",
     "text": [
      "eggs\n",
      "7.9\n"
     ]
    }
   ],
   "source": [
    "# printing out elments at a specific index\n",
    "\n",
    "print(shopping_list[0])\n",
    "print(price_list[2])"
   ]
  },
  {
   "cell_type": "markdown",
   "metadata": {},
   "source": [
    "Run the code; it outputs `eggs` and `7.90`. The first value is `eggs` because it is the first item in the shopping list with index `0`, and the second value is `7.90` because it is the third item in the price list with index `2`. \n",
    "\n",
    "The following illustration represents a list with six integer elements and their indices starting from zero. It's also nice to know that Python supports negative indexing, which means the last element’s index is `-1`, the second to last element’s index is `-2`, and the `k-th` last element’s index is `-k`.\n",
    "\n",
    "![Index Image](../assets/num-list-1.webp)\n",
    "\n",
    "Let’s first define the num_list list and then look at some examples:"
   ]
  },
  {
   "cell_type": "code",
   "execution_count": 14,
   "metadata": {},
   "outputs": [
    {
     "name": "stdout",
     "output_type": "stream",
     "text": [
      "51\n",
      "21\n",
      "21\n"
     ]
    }
   ],
   "source": [
    "# defining num_list\n",
    "\n",
    "num_list = [21, 13, 17, 39, 17, 51]\n",
    "\n",
    "print(num_list[-1])\n",
    "print(num_list[0])\n",
    "print(num_list[-6])"
   ]
  },
  {
   "cell_type": "markdown",
   "metadata": {},
   "source": [
    "The first print statement returns `51`, which is the last element in the list, and the last two print statements return `21` because both refer to the first element of the list. Sometimes, we need to know how many elements are within a list. \n",
    "\n",
    "To do so, we use `len()` function, like this:"
   ]
  },
  {
   "cell_type": "code",
   "execution_count": 15,
   "metadata": {},
   "outputs": [
    {
     "name": "stdout",
     "output_type": "stream",
     "text": [
      "The length of the list is 6.\n"
     ]
    }
   ],
   "source": [
    "print(\"The length of the list is {}.\".format(len(num_list)))"
   ]
  },
  {
   "cell_type": "markdown",
   "metadata": {},
   "source": [
    "## 3. Changing Values in a List\n",
    "\n",
    "Modifying an item within a list is like re-declaring a variable to a new value. Let’s look at the following example:"
   ]
  },
  {
   "cell_type": "code",
   "execution_count": null,
   "metadata": {},
   "outputs": [],
   "source": [
    "# defining a new list\n",
    "num_list = [21, 13, 17, 39, 17, 51]\n",
    "print(num_list)\n",
    "\n",
    "# chnaging the item at the fourth index\n",
    "num_list[4] = 33\n",
    "print(num_list)"
   ]
  },
  {
   "cell_type": "markdown",
   "metadata": {},
   "source": [
    "In the code above, before we modify the value at index 4, it outputs `[21, 13, 17, 39, 17, 51]`, and after changing the value at the index 4 to 33, it outputs `[21, 13, 17, 39, 33, 51]`. In other words, our code selects the item at position four and sets its value to 33.\n",
    "\n",
    "## 4. Nesting Lists\n",
    "\n",
    "In Python, we can store lists within another list (nested lists). To check how we can create a nested list, let's try the following code that makes one list containing other lists and values with different data types.\n"
   ]
  },
  {
   "cell_type": "code",
   "execution_count": 16,
   "metadata": {},
   "outputs": [
    {
     "name": "stdout",
     "output_type": "stream",
     "text": [
      "[['Python', 100], ['Java', 101], 'Hello', True]\n",
      "['Java', 101]\n"
     ]
    }
   ],
   "source": [
    "# creating a list of lists\n",
    "data = [[\"Python\", 100], [\"Java\", 101], \"Hello\", True]\n",
    "print(data)\n",
    "print(data[1])"
   ]
  },
  {
   "cell_type": "markdown",
   "metadata": {},
   "source": [
    "The first line shows the entire list stored in the `data` variable, and the second line displays the second element of the `data` that itself is a list with two elements. So far, you've learned how to create nested lists. But what if we want to retrieve a specific element from an inner list. \n",
    "\n",
    "In Python, to access an item within a list, we put the item’s index between a pair of square brackets. However, if the item is inside an inner list, we have to add a second set of square brackets after the first set. Let’s check out an example:"
   ]
  },
  {
   "cell_type": "code",
   "execution_count": 17,
   "metadata": {},
   "outputs": [
    {
     "name": "stdout",
     "output_type": "stream",
     "text": [
      "Python\n",
      "Java\n"
     ]
    }
   ],
   "source": [
    "# accessing a specific element in the list\n",
    "print(data[0][0])\n",
    "inner_list = data[1]\n",
    "print(inner_list[0])"
   ]
  },
  {
   "cell_type": "markdown",
   "metadata": {},
   "source": [
    "Running the code above outputs `Python` and `Java`. In the first line of code, the first index enclosed between the first set of square brackets refers to the first item in the `data` list, which itself is a list, and the second index enclosed between the second set refers to the first value of the inner list, which results in `Python`. \n",
    "\n",
    "The illustration below represents how Python is retrieved from the data list.\n",
    "\n",
    "![Index Image](../assets/inner-list-2.webp)\n",
    "\n",
    "In the second line of code, the value at index 1 of the `data` list, which itself is also a list assigned to the `inner_list` variable; then in the last line, we are accessing the first element of the inner list stored in the `inner_list` variable, which is Java.\n",
    "\n",
    "### 2.1 Slicing Lists\n",
    "\n",
    "Python allows us to create list subsets using slicing techniques. To create a list slice, we specify the index of the first and last items. The items from the first index up to, but not including, the last index are copied into the slice, and it's evident that the copying doesn't modify the original list. There are different ways for slicing a list; let’s look at some of them.\n",
    "\n",
    "#### 2.1.1 Slicing with a starting index\n",
    "\n",
    "Omitting the ending index means that the slice contains the list elements from the starting index to the end of the list. Let’s check it out:\n"
   ]
  },
  {
   "cell_type": "code",
   "execution_count": null,
   "metadata": {},
   "outputs": [],
   "source": [
    "# defining a new list\n",
    "\n",
    "num_list = [21, 13, 17, 39, 17, 51]\n",
    "print(num_list[3:])"
   ]
  },
  {
   "cell_type": "markdown",
   "metadata": {},
   "source": [
    "![Index Image](../assets/slicing_lists.webp)"
   ]
  },
  {
   "cell_type": "markdown",
   "metadata": {},
   "source": [
    "> Omitting both the starting and ending indices results in the entire list."
   ]
  },
  {
   "cell_type": "code",
   "execution_count": 19,
   "metadata": {},
   "outputs": [
    {
     "name": "stdout",
     "output_type": "stream",
     "text": [
      "[21, 13, 17, 39, 17, 51]\n"
     ]
    }
   ],
   "source": [
    "print(num_list[:])"
   ]
  },
  {
   "cell_type": "markdown",
   "metadata": {},
   "source": [
    "#### 2.1.2 Slicing with Steps\n",
    "\n",
    "We can use a step to return items at specified intervals. The step is optional — by default, it is 1. The following code returns every other item of `num_list`."
   ]
  },
  {
   "cell_type": "code",
   "execution_count": 20,
   "metadata": {},
   "outputs": [
    {
     "name": "stdout",
     "output_type": "stream",
     "text": [
      "[21, 17, 17]\n"
     ]
    }
   ],
   "source": [
    "num_list = [21, 13, 17, 39, 17, 51]\n",
    "print(num_list[ : :2])"
   ]
  },
  {
   "cell_type": "markdown",
   "metadata": {},
   "source": [
    "![Index Image](../assets/slicing_list_step.webp)"
   ]
  },
  {
   "cell_type": "markdown",
   "metadata": {},
   "source": [
    "#### 2.1.3 Reversing a list with negative step\n",
    "\n",
    "We can reverse a list by specifying the step as -1. The following code returns the `num_list` items in reverse order."
   ]
  },
  {
   "cell_type": "code",
   "execution_count": 21,
   "metadata": {},
   "outputs": [
    {
     "name": "stdout",
     "output_type": "stream",
     "text": [
      "[51, 17, 39, 17, 13, 21]\n"
     ]
    }
   ],
   "source": [
    "num_list = [21, 13, 17, 39, 17, 51]\n",
    "print(num_list[ : :-1])"
   ]
  },
  {
   "cell_type": "markdown",
   "metadata": {},
   "source": [
    "![reverse list step](../assets/reverse_list_step.webp)\n",
    "\n",
    "> In the code above, although we didn’t specify the start and end indices, both are assumed as negative indices as follows:"
   ]
  },
  {
   "cell_type": "code",
   "execution_count": 23,
   "metadata": {},
   "outputs": [
    {
     "name": "stdout",
     "output_type": "stream",
     "text": [
      "[51, 17, 39, 17, 13, 21]\n"
     ]
    }
   ],
   "source": [
    "print(num_list[-1:-9:-1])"
   ]
  },
  {
   "cell_type": "markdown",
   "metadata": {},
   "source": [
    "## 3.0 Adding Items to a list\n",
    "\n",
    "There are two methods for adding new items into a list, insert() and append() methods. The new item can be a string, a number, or even another list. We can use both methods to expand a list.\n",
    "\n",
    "### 3.1 .insert()\n",
    "\n",
    "The `insert()` method adds an item at a specified location within a list. Let’s see how it works."
   ]
  },
  {
   "cell_type": "code",
   "execution_count": 24,
   "metadata": {},
   "outputs": [
    {
     "name": "stdout",
     "output_type": "stream",
     "text": [
      "['apple', 'pineapple', 'orange', 'cherry']\n"
     ]
    }
   ],
   "source": [
    "fruits = [\"apple\", \"orange\", \"cherry\"]\n",
    "fruits.insert(1, \"pineapple\")\n",
    "print(fruits)"
   ]
  },
  {
   "cell_type": "markdown",
   "metadata": {},
   "source": [
    "The code above inserts `pineapple` into the list at index 1 and outputs as follows: `['apple', 'pineapple', 'orange', 'cherry']`\n",
    "\n",
    "### 3.2 .append()\n",
    "\n",
    "The `append()` method adds an item at the end of a list. Let’s check it out.\n",
    "\n"
   ]
  },
  {
   "cell_type": "code",
   "execution_count": 25,
   "metadata": {},
   "outputs": [
    {
     "name": "stdout",
     "output_type": "stream",
     "text": [
      "['apple', 'orange', 'cherry', 'pineapple']\n"
     ]
    }
   ],
   "source": [
    "fruits = [\"apple\",\"orange\",\"cherry\"]\n",
    "fruits.append(\"pineapple\")\n",
    "print(fruits)"
   ]
  },
  {
   "cell_type": "markdown",
   "metadata": {},
   "source": [
    "> You can add a list of objects at the end of a list with `+=` operator. If the left operand of `+=` is a list, the right operand must be a list or any other iterable object."
   ]
  },
  {
   "cell_type": "code",
   "execution_count": 27,
   "metadata": {},
   "outputs": [
    {
     "name": "stdout",
     "output_type": "stream",
     "text": [
      "['Mary', 'James', 'Patricia', 'Robert', 'Emma', 'William']\n"
     ]
    }
   ],
   "source": [
    "students = [\"Mary\", \"James\",\"Patricia\"]\n",
    "students += [\"Robert\"]\n",
    "students += [\"Emma\", \"William\"]\n",
    "print(students)"
   ]
  },
  {
   "cell_type": "markdown",
   "metadata": {},
   "source": [
    "The square brackets around the student name create a single-element list in the second line, which is appended to the `students` list using the `+=` operator. In the same way, the third line appends a list of two `students` to the students list. We also can concatenate two lists using the `+` operator. The result is a new list containing the students of class A followed by the students of class B."
   ]
  },
  {
   "cell_type": "code",
   "execution_count": 28,
   "metadata": {},
   "outputs": [
    {
     "name": "stdout",
     "output_type": "stream",
     "text": [
      "['Mary', 'James', 'Patricia', 'Robert', 'Emma', 'William']\n"
     ]
    }
   ],
   "source": [
    "classA = [\"Mary\", \"James\",\"Patricia\"]\n",
    "classB = [\"Robert\", \"Emma\", \"William\"]\n",
    "students = classA + classB\n",
    "print(students)"
   ]
  },
  {
   "cell_type": "markdown",
   "metadata": {},
   "source": [
    "## 4.0 Removing Items from Lists\n",
    "\n",
    "There are two primary methods for removing items from a list, `pop()` and `remove()` methods.\n",
    "\n",
    "### .pop()\n",
    "\n",
    "The `pop()` method removes an item at a specified index from a list and returns the item, which can be assigned to a variable and used later. The default value of the index is `-1`, which means if the index value isn't provided, it removes the last item."
   ]
  },
  {
   "cell_type": "code",
   "execution_count": 29,
   "metadata": {},
   "outputs": [
    {
     "name": "stdout",
     "output_type": "stream",
     "text": [
      "Second Fruit is orange.\n",
      "Last Fruit is pineapple.\n",
      "['apple', 'cherry']\n"
     ]
    }
   ],
   "source": [
    "fruits = [\"apple\", \"orange\", \"cherry\", \"pineapple\"]\n",
    "\n",
    "second_fruit = fruits.pop(1) # removes the second item\n",
    "last_fruit = fruits.pop() # removes the last item\n",
    "\n",
    "print(\"Second Fruit is {}.\".format(second_fruit))\n",
    "print(\"Last Fruit is {}.\".format(last_fruit))\n",
    "print(fruits)\n"
   ]
  },
  {
   "cell_type": "markdown",
   "metadata": {},
   "source": [
    "The code above removes two items: the first item is at index 1, and the second item is at the end of the list. Also, while popping these items out of the list, it saves them into the `second_fruit` and `last_fruit` variables, which prints them out later along with the modified `fruits` list.\n",
    "\n",
    "### .remove()\n",
    "\n",
    "The `remove()` method removes the first occurrence of an element with a specified value."
   ]
  },
  {
   "cell_type": "code",
   "execution_count": 30,
   "metadata": {},
   "outputs": [
    {
     "name": "stdout",
     "output_type": "stream",
     "text": [
      "['apple', 'orange', 'pineapple']\n"
     ]
    }
   ],
   "source": [
    "fruits = [\"apple\", \"orange\", \"cherry\",  \"pineapple\"]\n",
    "fruits.remove('cherry')\n",
    "print(fruits)"
   ]
  },
  {
   "cell_type": "markdown",
   "metadata": {},
   "source": [
    "But what happens if the item that we're going to remove doesn’t exist in the list? Let’s run the following code and see the result:"
   ]
  },
  {
   "cell_type": "code",
   "execution_count": 31,
   "metadata": {},
   "outputs": [
    {
     "ename": "ValueError",
     "evalue": "list.remove(x): x not in list",
     "output_type": "error",
     "traceback": [
      "\u001b[1;31m---------------------------------------------------------------------------\u001b[0m",
      "\u001b[1;31mValueError\u001b[0m                                Traceback (most recent call last)",
      "Cell \u001b[1;32mIn[31], line 2\u001b[0m\n\u001b[0;32m      1\u001b[0m fruits \u001b[38;5;241m=\u001b[39m [\u001b[38;5;124m\"\u001b[39m\u001b[38;5;124mapple\u001b[39m\u001b[38;5;124m\"\u001b[39m, \u001b[38;5;124m\"\u001b[39m\u001b[38;5;124morange\u001b[39m\u001b[38;5;124m\"\u001b[39m, \u001b[38;5;124m\"\u001b[39m\u001b[38;5;124mcherry\u001b[39m\u001b[38;5;124m\"\u001b[39m, \u001b[38;5;124m\"\u001b[39m\u001b[38;5;124mpineapple\u001b[39m\u001b[38;5;124m\"\u001b[39m]\n\u001b[1;32m----> 2\u001b[0m fruits\u001b[38;5;241m.\u001b[39mremove(\u001b[38;5;124m'\u001b[39m\u001b[38;5;124mblueberry\u001b[39m\u001b[38;5;124m'\u001b[39m)\n\u001b[0;32m      3\u001b[0m \u001b[38;5;28mprint\u001b[39m(fruits)\n",
      "\u001b[1;31mValueError\u001b[0m: list.remove(x): x not in list"
     ]
    }
   ],
   "source": [
    "fruits = [\"apple\", \"orange\", \"cherry\", \"pineapple\"]\n",
    "fruits.remove('blueberry')\n",
    "print(fruits)"
   ]
  },
  {
   "cell_type": "code",
   "execution_count": 32,
   "metadata": {},
   "outputs": [
    {
     "name": "stdout",
     "output_type": "stream",
     "text": [
      "The fruit name does not exist in the list.\n"
     ]
    }
   ],
   "source": [
    "# error proofing our code\n",
    "\n",
    "fruits = [\"apple\", \"orange\", \"cherry\", \"pineapple\"]\n",
    "try:\n",
    "  fruits.remove('blueberry')\n",
    "  print(fruits)\n",
    "except:\n",
    "  print(\"The fruit name does not exist in the list.\")\n"
   ]
  }
 ],
 "metadata": {
  "kernelspec": {
   "display_name": "base",
   "language": "python",
   "name": "python3"
  },
  "language_info": {
   "codemirror_mode": {
    "name": "ipython",
    "version": 3
   },
   "file_extension": ".py",
   "mimetype": "text/x-python",
   "name": "python",
   "nbconvert_exporter": "python",
   "pygments_lexer": "ipython3",
   "version": "3.11.9"
  }
 },
 "nbformat": 4,
 "nbformat_minor": 2
}
